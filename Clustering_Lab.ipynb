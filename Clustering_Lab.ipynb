{
  "cells": [
    {
      "cell_type": "markdown",
      "source": [
        "<a target=\"_blank\" href=\"https://colab.research.google.com/github/dahenderson98/K-Means-Clustering/blob/main/Clustering_Lab.ipynb\">\n",
        "  <img src=\"https://colab.research.google.com/assets/colab-badge.svg\" alt=\"Open In Colab\"/>\n",
        "</a>"
      ],
      "metadata": {
        "id": "SD94zmYMMPcY"
      }
    },
    {
      "cell_type": "markdown",
      "metadata": {
        "id": "DVL7_bgmIAPR"
      },
      "source": [
        "# Unsupervised Learning: Clustering Lab\n",
        "\n",
        "\n",
        "\n"
      ]
    },
    {
      "cell_type": "code",
      "execution_count": null,
      "metadata": {
        "id": "6ZbYjZZZ_yLV"
      },
      "outputs": [],
      "source": [
        "from sklearn.base import BaseEstimator, ClassifierMixin, ClusterMixin\n",
        "from sklearn.cluster import AgglomerativeClustering, KMeans\n",
        "from sklearn.metrics import silhouette_score\n",
        "import numpy as np\n",
        "import matplotlib.pyplot as plt\n",
        "from scipy.io import arff"
      ]
    },
    {
      "cell_type": "markdown",
      "metadata": {
        "id": "sCcEPx5VIORj"
      },
      "source": [
        "## 1. Implement the HAC and K-means algorithms\n",
        "For both algorithms:\n",
        "- Use euclidean distance as the distance metric\n",
        "- You only need to handle continuous features, but think about how you would handle nominal and unknown data\n",
        "---\n",
        "When reporting the results of each algorithm, include the following:\n",
        "- The number of clusters (*k*)\n",
        "- The silhouette score of the full clustering (You can either write and use your own silhouette_score function (extra credit) or use sklearn's)\n",
        "\n",
        "For each cluster include:\n",
        "- The vectors of points representing the cluster centroid\n",
        "- The number of instances tied to that centroid\n",
        "---\n",
        "\n",
        "### 1.1 HAC (Hierarchical Agglomerative Clustering)\n",
        "\n",
        "### HAC Code requirements \n",
        "- HAC should support both single link and complete link options.\n",
        "- HAC automatically generates all clusterings from *n* to 1.  To reduce the amount of output implement a mechanism to specify for which *k* values actual output will be generated."
      ]
    },
    {
      "cell_type": "code",
      "execution_count": null,
      "metadata": {
        "id": "_a2KSZ_7AN0G"
      },
      "outputs": [],
      "source": [
        "class HACClustering(BaseEstimator,ClusterMixin):\n",
        "\n",
        "    def __init__(self,k=3, low_print_k=-1, link_type='single', normalize=True):\n",
        "        \"\"\"\n",
        "        Args:\n",
        "            k = how many final clusters to have\n",
        "            link_type = single or complete. when combining two clusters use complete link or single link\n",
        "        \"\"\"\n",
        "        self.k = k\n",
        "        self.low_print_k = k if low_print_k == -1 else low_print_k\n",
        "        self.link_type = link_type\n",
        "        self.normalize = normalize\n",
        "        self.dist_matrix = []\n",
        "        self.clusters = None\n",
        "        self.k_vals = []\n",
        "        self.s_scores = []\n",
        "        \n",
        "    def fit(self, X, y=None):\n",
        "        \"\"\" Fit the data; In this lab this will make the K clusters :D\n",
        "        Args:\n",
        "            X (array-like): A 2D numpy array with the training data\n",
        "            y (array-like): An optional argument. Clustering is usually unsupervised so you don't need labels\n",
        "        Returns:\n",
        "            self: this allows this to be chained, e.g. model.fit(X,y).predict(X_test)\n",
        "        \"\"\"\n",
        "\n",
        "        # Normalize data unless specified not to\n",
        "        data = self.normalize_data(X) if self.normalize else X\n",
        "\n",
        "        # Initialize distance matrix\n",
        "        self.create_dist_matrix(data)\n",
        "\n",
        "        # Create cluster (set) for each datapoint\n",
        "        clusters = []\n",
        "        for i in range(data.shape[0]):\n",
        "          clusters.append(set({i}))\n",
        "        \n",
        "        # Combine clusters until only 1 cluster remains\n",
        "        while len(clusters) > 1:\n",
        "          # Find 2 nearest clusters to be merged\n",
        "          c1, c2, shortest_dist = -1, -1, float('inf')\n",
        "          for i in range(len(clusters)-1):\n",
        "            for j in range(i+1,len(clusters)):\n",
        "              # Get distance between cluster i and cluster j\n",
        "              pair_dist = float('inf')\n",
        "              # Single linking compares clusters by their shortest distance from each other\n",
        "              if self.link_type == 'single':\n",
        "                _shortest = float('inf')\n",
        "                for id1, val1 in enumerate(clusters[i]):\n",
        "                  for id2, val2 in enumerate(clusters[j]):\n",
        "                    if self.dist_matrix[val1,val2] < _shortest:\n",
        "                      pair_dist, _shortest = self.dist_matrix[val1,val2], self.dist_matrix[val1,val2]\n",
        "              # Complete linking compares clusters by their greatest distance from each other\n",
        "              elif self.link_type == 'complete':\n",
        "                _largest = -1\n",
        "                for id1, val1 in enumerate(clusters[i]):\n",
        "                  for id2, val2 in enumerate(clusters[j]):\n",
        "                    if self.dist_matrix[val1,val2] > _largest:\n",
        "                      pair_dist, _largest = self.dist_matrix[val1,val2], self.dist_matrix[val1,val2]\n",
        "              # Update min distance if clusters i and j are closer together than previous min\n",
        "              if pair_dist < shortest_dist:\n",
        "                c1, c2, shortest_dist = i, j, pair_dist\n",
        "          # Combine 2 nearest clusters\n",
        "          assert c1 != -1\n",
        "          assert c2 != -1\n",
        "          temp = clusters[c2]\n",
        "          del clusters[c2]\n",
        "          clusters[c1] = clusters[c1].union(temp)\n",
        "\n",
        "          # Produce output if we've reached k clusters\n",
        "          if (len(clusters) >= self.low_print_k and len(clusters) <= self.k):\n",
        "            self.clusters = clusters\n",
        "            # Calculate centroids for all clusters\n",
        "              # Also compose list of labels for all data points to be used for silhouette scoring\n",
        "            centroids = []\n",
        "            _labels = np.zeros(data.shape[0])\n",
        "            for i in range(len(clusters)):\n",
        "              sum = np.zeros(data.shape[1])\n",
        "              for id, val in enumerate(self.clusters[i]):\n",
        "                sum += data[val,:]\n",
        "                _labels[val] = i\n",
        "              centroids.append(sum / len(self.clusters[i]))\n",
        "            self.centroids = centroids\n",
        "            \n",
        "            # Calculate silhouette score for clustering\n",
        "            self.silhouette_score = silhouette_score(X=data, labels=_labels)\n",
        "            self.k_vals.append(len(clusters))\n",
        "            self.s_scores.append(self.silhouette_score)\n",
        "            # Print final results\n",
        "            self.print_clusters(len(clusters))\n",
        "        \n",
        "        return self\n",
        "\n",
        "    def create_dist_matrix(self, X):\n",
        "      self.dist_matrix = np.zeros((X.shape[0],X.shape[0]))\n",
        "      for x in range(X.shape[0]):\n",
        "        for y in range(x,X.shape[0]):\n",
        "          self.dist_matrix[x,y] = np.linalg.norm(X[x,:] - X[y,:])\n",
        "          self.dist_matrix[y,x] = self.dist_matrix[x,y]\n",
        "\n",
        "      pass\n",
        "\n",
        "    def normalize_data(self, X):\n",
        "      X_new = X.astype(float)\n",
        "      mins, maxes = X_new.min(axis=0), X_new.max(axis=0)\n",
        "      return (X_new - mins) / (maxes - mins)\n",
        "    \n",
        "    def print_clusters(self, n_clusters):\n",
        "        print(f\"Num clusters: {n_clusters}\\n\")\n",
        "        print(\"Silhouette score: {:.4f}\\n\\n\".format(self.silhouette_score))\n",
        "        for i in range(n_clusters):\n",
        "            print(np.array2string(self.centroids[i],precision=4,separator=\",\"))\n",
        "            print(f\"{len(self.clusters[i])}\\n\")\n",
        "        \n",
        "        pass"
      ]
    },
    {
      "cell_type": "markdown",
      "metadata": {
        "id": "KibCIXIThpbE"
      },
      "source": [
        "### 1.1.1 (15%) Debug \n",
        "\n",
        "Debug your model by running it on the [Debug Dataset](https://raw.githubusercontent.com/cs472ta/CS472/master/datasets/abalone.arff)\n",
        "\n",
        "\n",
        "---\n",
        "The dataset was modified to be smaller. The last datapoint should be on line 359 or the point 0.585,0.46,0.185,0.922,0.3635,0.213,0.285,10. The remaining points are commented out.\n",
        "\n",
        "- Include the output class (last column) as an additional input feature\n",
        "- Normalize Data--attributes should be normalized using the formula (x-xmin)/(xmax-xmin). Do this exact normalization rather than call the scikit normalization, else you will not get the same answers as us.\n",
        "- Report results for *k* = 5\n",
        "- Use 4 decimal places and DO NOT ROUND when reporting silhouette score and centroid values.\n",
        "\n",
        "---\n",
        "Solutions in files:\n",
        "\n",
        "[Debug HAC Single (Silhouette).txt](https://raw.githubusercontent.com/cs472ta/CS472/master/debug_solutions/Debug%20HAC%20Single%20Link%20%28Silhouette%29.txt)\n",
        "\n",
        "[Debug HAC Complete (Silhouette).txt](https://raw.githubusercontent.com/cs472ta/CS472/master/debug_solutions/Debug%20HAC%20Complete%20Link%20%28Silhouette%29.txt)"
      ]
    },
    {
      "cell_type": "code",
      "source": [
        "# Import debug data\n",
        "!curl -o debug_data.arff \"https://raw.githubusercontent.com/cs472ta/CS472/master/datasets/abalone.arff\"\n",
        "X_debug = np.array(arff.loadarff('debug_data.arff')[0].tolist())"
      ],
      "metadata": {
        "id": "Hcm_D-Ub9Udq",
        "colab": {
          "base_uri": "https://localhost:8080/"
        },
        "outputId": "d44f88c2-f917-484e-9736-6a9e07f6143a"
      },
      "execution_count": null,
      "outputs": [
        {
          "output_type": "stream",
          "name": "stdout",
          "text": [
            "  % Total    % Received % Xferd  Average Speed   Time    Time     Time  Current\n",
            "                                 Dload  Upload   Total   Spent    Left  Speed\n",
            "\r  0     0    0     0    0     0      0      0 --:--:-- --:--:-- --:--:--     0\r100  187k  100  187k    0     0  3913k      0 --:--:-- --:--:-- --:--:-- 3913k\n"
          ]
        }
      ]
    },
    {
      "cell_type": "code",
      "execution_count": null,
      "metadata": {
        "colab": {
          "base_uri": "https://localhost:8080/"
        },
        "id": "obXruOzhONAH",
        "outputId": "bc2f012e-f8af-4e0c-fd3f-4f1d62efe3e6"
      },
      "outputs": [
        {
          "output_type": "stream",
          "name": "stdout",
          "text": [
            "Num clusters: 5\n",
            "\n",
            "Silhouette score: 0.3453\n",
            "\n",
            "\n",
            "[0.599 ,0.5923,0.4915,0.2826,0.2682,0.2921,0.2316,0.3849]\n",
            "195\n",
            "\n",
            "[0.9189,0.9438,0.7105,0.7016,0.759 ,0.7222,0.4472,0.8824]\n",
            "1\n",
            "\n",
            "[1.    ,0.9831,0.8026,0.8343,0.6575,0.7825,0.9221,0.8824]\n",
            "2\n",
            "\n",
            "[1.    ,0.9888,0.7895,1.    ,1.    ,0.8915,0.7186,0.5882]\n",
            "1\n",
            "\n",
            "[0.9189,0.9888,0.8684,0.719 ,0.5797,0.7512,0.6432,0.9412]\n",
            "1\n",
            "\n"
          ]
        }
      ],
      "source": [
        "# Single\n",
        "HAC_single = HACClustering(k=5, link_type='single')\n",
        "_ = HAC_single.fit(X_debug)"
      ]
    },
    {
      "cell_type": "code",
      "source": [
        "# Complete\n",
        "HAC_debug_complete = HACClustering(k=5, link_type='complete')\n",
        "_ = HAC_debug_complete.fit(X_debug)"
      ],
      "metadata": {
        "colab": {
          "base_uri": "https://localhost:8080/"
        },
        "id": "Y9xuKnt39S2A",
        "outputId": "410033b4-79b1-44ce-8f16-e6d1dd4e3316"
      },
      "execution_count": null,
      "outputs": [
        {
          "output_type": "stream",
          "name": "stdout",
          "text": [
            "Num clusters: 5\n",
            "\n",
            "Silhouette score: 0.3095\n",
            "\n",
            "\n",
            "[0.6544,0.649 ,0.5256,0.2879,0.2815,0.3057,0.2288,0.3911]\n",
            "71\n",
            "\n",
            "[0.3661,0.3505,0.271 ,0.1008,0.1024,0.1058,0.0836,0.2116]\n",
            "67\n",
            "\n",
            "[0.7622,0.7658,0.6759,0.4265,0.4016,0.4536,0.3376,0.5217]\n",
            "38\n",
            "\n",
            "[0.8818,0.8904,0.7582,0.614 ,0.5433,0.5317,0.561 ,0.7794]\n",
            "16\n",
            "\n",
            "[0.9471,0.934 ,0.8158,0.7457,0.6434,0.7944,0.6457,0.625 ]\n",
            "8\n",
            "\n"
          ]
        }
      ]
    },
    {
      "cell_type": "markdown",
      "metadata": {
        "id": "3I3y-nomONAJ"
      },
      "source": [
        "Discussion\n",
        "\n",
        "I was very grateful that the debug dataset was trimmed down in size, as running my algorithm on the entire dataset may have taken a very long time to complete. It was quite surprising to me that the complete-linkage style yielded a lower silhouette score than the single-linkage style. "
      ]
    },
    {
      "cell_type": "markdown",
      "metadata": {
        "id": "kY3VNB1ui03N"
      },
      "source": [
        "### 1.1.2 (15%) Evaluation\n",
        "\n",
        "We will evaluate your model based on its print_clusters() output using this [Evaluation Dataset](https://raw.githubusercontent.com/cs472ta/CS472/master/datasets/seismic-bumps_train.arff) using the *same* parameters as for Debug"
      ]
    },
    {
      "cell_type": "markdown",
      "metadata": {
        "id": "Gg1UE0p3-Jen"
      },
      "source": [
        "#### Complete Link"
      ]
    },
    {
      "cell_type": "code",
      "execution_count": null,
      "metadata": {
        "id": "2yAxA78QjDh2",
        "colab": {
          "base_uri": "https://localhost:8080/"
        },
        "outputId": "5dd04c2f-75b1-42ba-c40d-4d52b2070fd0"
      },
      "outputs": [
        {
          "output_type": "stream",
          "name": "stdout",
          "text": [
            "  % Total    % Received % Xferd  Average Speed   Time    Time     Time  Current\n",
            "                                 Dload  Upload   Total   Spent    Left  Speed\n",
            "100  6392  100  6392    0     0  64565      0 --:--:-- --:--:-- --:--:-- 64565\n"
          ]
        }
      ],
      "source": [
        "# Load evaluation data\n",
        "!curl -o eval_data.arff \"https://raw.githubusercontent.com/cs472ta/CS472/master/datasets/seismic-bumps_train.arff\"\n",
        "X_eval = np.array(arff.loadarff('eval_data.arff')[0].tolist())"
      ]
    },
    {
      "cell_type": "code",
      "source": [
        "# Train on evaluation data using complete link\n",
        "# Print clusters\n",
        "HAC_eval_complete = HACClustering(k=5, link_type='complete')\n",
        "_ = HAC_eval_complete.fit(X_eval)"
      ],
      "metadata": {
        "colab": {
          "base_uri": "https://localhost:8080/"
        },
        "id": "V37FsJctHcnP",
        "outputId": "ddc0af65-4b54-48f1-cdf4-578c5c2a1709"
      },
      "execution_count": null,
      "outputs": [
        {
          "output_type": "stream",
          "name": "stdout",
          "text": [
            "Num clusters: 5\n",
            "\n",
            "Silhouette score: 0.2930\n",
            "\n",
            "\n",
            "[0.3636,0.4107,0.5609,0.3857,0.3937,0.2808,0.3155,0.    ]\n",
            "49\n",
            "\n",
            "[0.3471,0.3622,0.7897,0.279 ,0.441 ,0.8568,0.2234,0.    ]\n",
            "3\n",
            "\n",
            "[0.1656,0.2226,0.3509,0.2328,0.152 ,0.3424,0.1918,0.    ]\n",
            "18\n",
            "\n",
            "[0.7918,0.8268,0.606 ,0.7669,0.7787,0.4634,0.7877,1.    ]\n",
            "49\n",
            "\n",
            "[0.5326,0.6002,0.4536,0.5531,0.5144,0.5401,0.6266,1.    ]\n",
            "21\n",
            "\n"
          ]
        }
      ]
    },
    {
      "cell_type": "markdown",
      "metadata": {
        "id": "pQVABkYL-Jeo"
      },
      "source": [
        "#### Single Link"
      ]
    },
    {
      "cell_type": "code",
      "execution_count": null,
      "metadata": {
        "id": "PxJ0DA92-Jeo",
        "colab": {
          "base_uri": "https://localhost:8080/"
        },
        "outputId": "907e1833-0b0c-4490-83b5-c438e677312c"
      },
      "outputs": [
        {
          "output_type": "stream",
          "name": "stdout",
          "text": [
            "Num clusters: 5\n",
            "\n",
            "Silhouette score: 0.3971\n",
            "\n",
            "\n",
            "[0.3159,0.3648,0.5145,0.349 ,0.3338,0.3077,0.2868,0.    ]\n",
            "67\n",
            "\n",
            "[0.2774,0.2597,1.    ,0.1224,0.4505,0.7549,0.129 ,0.    ]\n",
            "1\n",
            "\n",
            "[0.3065,0.3333,0.6979,0.2792,0.3787,1.    ,0.2373,0.    ]\n",
            "1\n",
            "\n",
            "[0.0884,0.1818,0.    ,0.145 ,0.1538,0.1245,0.    ,0.    ]\n",
            "1\n",
            "\n",
            "[0.714 ,0.7588,0.5603,0.7028,0.6994,0.4864,0.7393,1.    ]\n",
            "70\n",
            "\n"
          ]
        }
      ],
      "source": [
        "# Train on evaluation data using single link\n",
        "# Print clusters\n",
        "HAC_eval_single = HACClustering(k=5, link_type='single')\n",
        "_ = HAC_eval_single.fit(X_eval)"
      ]
    },
    {
      "cell_type": "markdown",
      "metadata": {
        "id": "D9eYWmHZONAQ"
      },
      "source": [
        "Discussion\n",
        "\n",
        "Again, I was quite surprised to see the single-linkage style yielding a higher silhouette score than the complete-linkage style. I was under the impression that, due to single linking's tendency to chain together clusters that are quite far from one another, complete linking would almost always yield higher silhouette scores."
      ]
    },
    {
      "cell_type": "markdown",
      "metadata": {
        "id": "ougZHjiL-Jeo"
      },
      "source": [
        "### 1.2 K-means\n",
        "\n",
        "### Code requirements \n",
        "- Ability to choose *k* and specify the *k* initial centroids\n",
        "- Ability to handle distance ties--when a node or cluster has the same distance to another cluster, which should be rare, choose the earliest cluster in your list"
      ]
    },
    {
      "cell_type": "code",
      "execution_count": null,
      "metadata": {
        "id": "wNeVvoZl-Jeo"
      },
      "outputs": [],
      "source": [
        "class KMEANSClustering(BaseEstimator,ClusterMixin):\n",
        "\n",
        "    def __init__(self,k=3,debug=False,print_output=True): ## add parameters here\n",
        "        \"\"\"\n",
        "        Args:\n",
        "            k = how many final clusters to have\n",
        "            debug = if debug is true use the first k instances as the initial centroids otherwise choose random points as the initial centroids.\n",
        "        \"\"\"\n",
        "        self.k = k\n",
        "        self.debug = debug\n",
        "        self.print_output = print_output\n",
        "\n",
        "    def fit(self, X, y=None):\n",
        "        \"\"\" Fit the data; In this lab this will make the K clusters :D\n",
        "        Args:\n",
        "            X (array-like): A 2D numpy array with the training data\n",
        "            y (array-like): An optional argument. Clustering is usually unsupervised so you don't need labels\n",
        "        Returns:\n",
        "            self: this allows this to be chained, e.g. model.fit(X,y).predict(X_test)\n",
        "        \"\"\"\n",
        "        # Normalize data\n",
        "        X_norm = self.normalize_data(X)\n",
        "\n",
        "        # Generate k initial centroids\n",
        "        if self.debug: centroids = X_norm[:self.k,:]\n",
        "        else: centroids = self.get_random_centroids(X_norm)\n",
        "\n",
        "        # Update centroids while their locations continue to change\n",
        "        old_centroids = np.zeros(centroids.shape)\n",
        "        lables = []\n",
        "        while not self.should_stop(old_centroids, centroids):\n",
        "          # Save old centroids for convergence test. Book keeping.\n",
        "          old_centroids = centroids\n",
        "          \n",
        "          # Assign labels to each datapoint based on centroids\n",
        "          labels = self.get_labels(X_norm, centroids)\n",
        "          \n",
        "          # Assign centroids based on datapoint labels\n",
        "          centroids = self.get_centroids(X_norm, labels)\n",
        "\n",
        "        # Record final centroids and labels\n",
        "        self.centroids = centroids\n",
        "        self.labels = labels\n",
        "\n",
        "\n",
        "        # Calculate silhouette score for clustering\n",
        "        self.silhouette_score = silhouette_score(X=X_norm, labels=labels)\n",
        "\n",
        "        # Print final results\n",
        "        if self.print_output: self.print_clusters()\n",
        "\n",
        "        return self\n",
        "\n",
        "    def normalize_data(self, X):\n",
        "        X_new = X.astype(float)\n",
        "        mins, maxes = X_new.min(axis=0), X_new.max(axis=0)\n",
        "        return (X_new - mins) / (maxes - mins)\n",
        "\n",
        "    def get_random_centroids(self, X):\n",
        "        # Get min, max for each feature across dataset\n",
        "        mins, maxes = X.min(axis=0), X.max(axis=0)\n",
        "\n",
        "        # Create k clusters with random values for each of dataset's features\n",
        "        centroids = []\n",
        "        for i in range(self.k):\n",
        "          c = np.array( [ np.array( np.random.uniform(low=mins[j], high=maxes[j]) ) for j in range(X.shape[1]) ] )\n",
        "          centroids.append(c)\n",
        "        \n",
        "        # Return numpy array of random centroids\n",
        "        return np.array(centroids)\n",
        "\n",
        "    # Determine if the algorithm should stop iterating (centroids have not changed)\n",
        "    def should_stop(self, oldCentroids, centroids):\n",
        "        unchanged = True\n",
        "        for i in range(oldCentroids.shape[0]):\n",
        "          for j in range(oldCentroids.shape[1]):\n",
        "            if oldCentroids[i,j] != centroids[i,j]: unchanged = False\n",
        "        return unchanged\n",
        "\n",
        "    # Returns a label for each piece of data in the dataset. \n",
        "    def get_labels(self, X, centroids):\n",
        "        # For each element in the dataset, chose the closest centroid. \n",
        "        # Make that centroid the element's label.\n",
        "\n",
        "        labels = []\n",
        "\n",
        "        # Iterate over all instances of dataset, assigning them to whichever centroid (cluster) they are nearest to\n",
        "        for i in range(X.shape[0]):\n",
        "          label = 0\n",
        "          shortest_dist = np.linalg.norm(X[i] - centroids[0])\n",
        "          for j in range(1,centroids.shape[0]):\n",
        "            dist = np.linalg.norm(X[i] - centroids[j])\n",
        "            if dist < shortest_dist:\n",
        "              label = j\n",
        "              shortest_dist = dist\n",
        "          labels.append(label)\n",
        "\n",
        "        return np.array(labels)\n",
        "\n",
        "    # Returns k recalculated centroids based on mean of labeled instances from dataset.\n",
        "    def get_centroids(self, X, labels):\n",
        "        # Each centroid is the geometric mean of the points that\n",
        "        # have that centroid's label. Important: If a centroid is empty (no points have\n",
        "        # that centroid's label) you should randomly re-initialize it.\n",
        "        new_centroids = []\n",
        "\n",
        "        # Iterate over all distinct labels (there are k of them)\n",
        "        for i in range(self.k):\n",
        "          sum_array, count = np.zeros(X.shape[1]), 0\n",
        "          # Iterate over all instances in dataset, sum across all instances with label matching i for each feature individually\n",
        "          # Keep count of instances with label matching i\n",
        "          for j in range(X.shape[0]):\n",
        "            if (labels[j] == i):\n",
        "              sum_array += X[j]\n",
        "              count += 1\n",
        "          # Append new centroid consisting of an array of each feature's sum divided by the count of instances with label matching i\n",
        "          if count != 0:\n",
        "            new_centroids.append(sum_array / count)\n",
        "          else: new_centroids.append( [ ( float('inf') ) for j in range(X.shape[1]) ] )\n",
        "\n",
        "        return np.array(new_centroids)\n",
        "    \n",
        "    def print_clusters(self):\n",
        "        print(f\"Num clusters: {self.k}\\n\")\n",
        "        print(\"Silhouette score: {:.4f}\\n\\n\".format(self.silhouette_score))\n",
        "        _, cluster_counts = np.unique(ar=self.labels, return_counts=True)\n",
        "        for i in range(self.k):\n",
        "            print(np.array2string(self.centroids[i],precision=4,separator=\",\"))\n",
        "            try: print(f\"{cluster_counts[i]}\\n\")\n",
        "            except: print(f\"{0}\\n\")\n",
        "        \n",
        "        pass"
      ]
    },
    {
      "cell_type": "markdown",
      "metadata": {
        "id": "sVZID7Nf-Jeo"
      },
      "source": [
        "### 1.2.1 (10%) K-Means Debug \n",
        "\n",
        "Debug your model by running it on the [Debug Dataset](https://raw.githubusercontent.com/cs472ta/CS472/master/datasets/abalone.arff)\n",
        "\n",
        "- Train until convergence\n",
        "- Make sure to include the output class (last column) as an additional input feature\n",
        "- Normalize Data--attributes should be normalized using the formula (x-xmin)/(xmax-xmin). Do this exact normalization rather than call the scikit nomralization, else you will not get the same answers as us.\n",
        "- Use *k* = 5\n",
        "- Use the first *k* instances in the training set as the initial centroids\n",
        "- Use 4 decimal places and DO NOT ROUND when reporting silhouette score and centroid values\n",
        "\n",
        "---\n",
        "Solution in file:\n",
        "\n",
        "[Debug K Means (Silhouette).txt](https://raw.githubusercontent.com/cs472ta/CS472/master/debug_solutions/Debug%20K%20Means%20%28Silhouette%29.txt)"
      ]
    },
    {
      "cell_type": "code",
      "execution_count": null,
      "metadata": {
        "id": "KgAyy82gixIF",
        "colab": {
          "base_uri": "https://localhost:8080/"
        },
        "outputId": "094189b3-2b7c-41b8-dc24-14808517f383"
      },
      "outputs": [
        {
          "output_type": "stream",
          "name": "stdout",
          "text": [
            "  % Total    % Received % Xferd  Average Speed   Time    Time     Time  Current\n",
            "                                 Dload  Upload   Total   Spent    Left  Speed\n",
            "\r  0     0    0     0    0     0      0      0 --:--:-- --:--:-- --:--:--     0\r100  187k  100  187k    0     0  7827k      0 --:--:-- --:--:-- --:--:-- 7827k\n"
          ]
        }
      ],
      "source": [
        "# Load debug data\n",
        "!curl -o km_debug_data.arff \"https://raw.githubusercontent.com/cs472ta/CS472/master/datasets/abalone.arff\"\n",
        "X_km_debug = np.array(arff.loadarff('km_debug_data.arff')[0].tolist())"
      ]
    },
    {
      "cell_type": "code",
      "source": [
        "# Train on debug data\n",
        "# Print clusters\n",
        "KM_debug = KMEANSClustering(k=5,debug=True)\n",
        "_ = KM_debug.fit(X_km_debug)"
      ],
      "metadata": {
        "colab": {
          "base_uri": "https://localhost:8080/"
        },
        "id": "dy0_63yhX6pK",
        "outputId": "82edf695-5687-44f4-fe69-2efc9c7eb797"
      },
      "execution_count": null,
      "outputs": [
        {
          "output_type": "stream",
          "name": "stdout",
          "text": [
            "Num clusters: 5\n",
            "\n",
            "Silhouette score: 0.3845\n",
            "\n",
            "\n",
            "[0.7325,0.7327,0.627 ,0.3817,0.3633,0.4045,0.3046,0.4839]\n",
            "75\n",
            "\n",
            "[0.3704,0.3519,0.2686,0.0926,0.0935,0.094 ,0.0792,0.218 ]\n",
            "34\n",
            "\n",
            "[0.9035,0.905 ,0.7774,0.6579,0.5767,0.6193,0.5893,0.7279]\n",
            "24\n",
            "\n",
            "[0.5692,0.5628,0.4376,0.211 ,0.2113,0.2248,0.1659,0.317 ]\n",
            "54\n",
            "\n",
            "[0.1296,0.1037,0.1053,0.0177,0.0211,0.0272,0.0135,0.0724]\n",
            "13\n",
            "\n"
          ]
        }
      ]
    },
    {
      "cell_type": "markdown",
      "metadata": {
        "id": "-dM7dY52-Jep"
      },
      "source": [
        "### 1.2.2 (15%) K-Means Evaluation\n",
        "\n",
        "We will evaluate your model based on its print_clusters() output using this [Evaluation Dataset](https://raw.githubusercontent.com/cs472ta/CS472/master/datasets/seismic-bumps_train.arff) using the *same* parameters as for Debug"
      ]
    },
    {
      "cell_type": "code",
      "execution_count": null,
      "metadata": {
        "id": "iYDNgbmN-Jep",
        "colab": {
          "base_uri": "https://localhost:8080/"
        },
        "outputId": "3a77b271-ae6a-4d31-a2c1-6b45b3a58284"
      },
      "outputs": [
        {
          "output_type": "stream",
          "name": "stdout",
          "text": [
            "  % Total    % Received % Xferd  Average Speed   Time    Time     Time  Current\n",
            "                                 Dload  Upload   Total   Spent    Left  Speed\n",
            "\r  0     0    0     0    0     0      0      0 --:--:-- --:--:-- --:--:--     0\r100  6392  100  6392    0     0   297k      0 --:--:-- --:--:-- --:--:--  297k\n"
          ]
        }
      ],
      "source": [
        "# Load evaluation data\n",
        "!curl -o km_eval_data.arff \"https://raw.githubusercontent.com/cs472ta/CS472/master/datasets/seismic-bumps_train.arff\"\n",
        "X_km_eval = np.array(arff.loadarff('km_eval_data.arff')[0].tolist())"
      ]
    },
    {
      "cell_type": "code",
      "source": [
        "# Train on evaluation data\n",
        "# Print clusters\n",
        "KM_eval = KMEANSClustering(k=5,debug=True)\n",
        "_ = KM_eval.fit(X_km_eval)"
      ],
      "metadata": {
        "colab": {
          "base_uri": "https://localhost:8080/"
        },
        "id": "wpD34NlBZuv6",
        "outputId": "23984c62-9c85-4ab6-85a3-959a24ca929c"
      },
      "execution_count": null,
      "outputs": [
        {
          "output_type": "stream",
          "name": "stdout",
          "text": [
            "Num clusters: 5\n",
            "\n",
            "Silhouette score: 0.2769\n",
            "\n",
            "\n",
            "[0.5349,0.6013,0.4617,0.5541,0.5232,0.5544,0.6248,1.    ]\n",
            "22\n",
            "\n",
            "[0.3684,0.4338,0.4356,0.4388,0.3573,0.2988,0.3673,0.    ]\n",
            "31\n",
            "\n",
            "[0.3658,0.3854,0.7563,0.3093,0.4659,0.3691,0.2413,0.    ]\n",
            "20\n",
            "\n",
            "[0.1634,0.2137,0.3968,0.2178,0.1555,0.3078,0.1775,0.    ]\n",
            "19\n",
            "\n",
            "[0.7961,0.831 ,0.6054,0.7709,0.7802,0.4553,0.7919,1.    ]\n",
            "48\n",
            "\n"
          ]
        }
      ]
    },
    {
      "cell_type": "markdown",
      "metadata": {
        "id": "9vWiTdlbR2Xh"
      },
      "source": [
        "## 2. Iris Clustering with Both Alogrithms\n",
        "For both algorithms: \n",
        "- Don't include the output label as one of the input features\n",
        "- Normalize the data\n",
        "- Show your results for clusterings with *k* = 2-7.  \n",
        "- Graph the silhouette score for each *k* and discuss your results (i.e. what kind of clusters are being made).\n",
        "- Load this Iris Dataset [Iris Dataset](https://raw.githubusercontent.com/cs472ta/CS472/master/datasets/iris.arff)\n",
        "\n",
        "### 2.1 (10%) Iris Clustering with HAC\n",
        "\n",
        "- Use single-link and complete link clustering algorithms\n",
        "---"
      ]
    },
    {
      "cell_type": "code",
      "source": [
        "# Load Iris dataset\n",
        "!curl -o iris_data.arff \"https://raw.githubusercontent.com/cs472ta/CS472/master/datasets/iris.arff\"\n",
        "X_iris_raw = np.array(arff.loadarff('iris_data.arff')[0].tolist())\n",
        "X_iris = X_iris_raw[:,:-1]"
      ],
      "metadata": {
        "colab": {
          "base_uri": "https://localhost:8080/"
        },
        "id": "1_S9Ue5KaJL2",
        "outputId": "de8b023d-1d7b-40eb-b55c-a439df3d4717"
      },
      "execution_count": null,
      "outputs": [
        {
          "output_type": "stream",
          "name": "stdout",
          "text": [
            "  % Total    % Received % Xferd  Average Speed   Time    Time     Time  Current\n",
            "                                 Dload  Upload   Total   Spent    Left  Speed\n",
            "\r  0     0    0     0    0     0      0      0 --:--:-- --:--:-- --:--:--     0\r100  7485  100  7485    0     0  91280      0 --:--:-- --:--:-- --:--:-- 92407\n"
          ]
        }
      ]
    },
    {
      "cell_type": "code",
      "execution_count": null,
      "metadata": {
        "id": "4SSoasDQSKXb",
        "colab": {
          "base_uri": "https://localhost:8080/",
          "height": 1000
        },
        "outputId": "45a20864-39e6-4f3e-f8c8-711086c2a388"
      },
      "outputs": [
        {
          "output_type": "stream",
          "name": "stdout",
          "text": [
            "Num clusters: 7\n",
            "\n",
            "Silhouette score: 0.1094\n",
            "\n",
            "\n",
            "[0.199 ,0.6003,0.0792,0.0595]\n",
            "49\n",
            "\n",
            "[0.0556,0.125 ,0.0508,0.0833]\n",
            "1\n",
            "\n",
            "[0.5386,0.3539,0.6544,0.6461]\n",
            "95\n",
            "\n",
            "[0.1667,0.2083,0.5932,0.6667]\n",
            "1\n",
            "\n",
            "[0.8056,0.6667,0.8644,1.    ]\n",
            "1\n",
            "\n",
            "[0.4167,0.3333,0.6949,0.9583]\n",
            "1\n",
            "\n",
            "[0.9722,0.75  ,0.9407,0.8333]\n",
            "2\n",
            "\n",
            "Num clusters: 6\n",
            "\n",
            "Silhouette score: 0.1605\n",
            "\n",
            "\n",
            "[0.199 ,0.6003,0.0792,0.0595]\n",
            "49\n",
            "\n",
            "[0.0556,0.125 ,0.0508,0.0833]\n",
            "1\n",
            "\n",
            "[0.5373,0.3537,0.6548,0.6493]\n",
            "96\n",
            "\n",
            "[0.1667,0.2083,0.5932,0.6667]\n",
            "1\n",
            "\n",
            "[0.8056,0.6667,0.8644,1.    ]\n",
            "1\n",
            "\n",
            "[0.9722,0.75  ,0.9407,0.8333]\n",
            "2\n",
            "\n",
            "Num clusters: 5\n",
            "\n",
            "Silhouette score: 0.2051\n",
            "\n",
            "\n",
            "[0.199 ,0.6003,0.0792,0.0595]\n",
            "49\n",
            "\n",
            "[0.0556,0.125 ,0.0508,0.0833]\n",
            "1\n",
            "\n",
            "[0.5401,0.357 ,0.657 ,0.6529]\n",
            "97\n",
            "\n",
            "[0.1667,0.2083,0.5932,0.6667]\n",
            "1\n",
            "\n",
            "[0.9722,0.75  ,0.9407,0.8333]\n",
            "2\n",
            "\n",
            "Num clusters: 4\n",
            "\n",
            "Silhouette score: 0.3883\n",
            "\n",
            "\n",
            "[0.199 ,0.6003,0.0792,0.0595]\n",
            "49\n",
            "\n",
            "[0.0556,0.125 ,0.0508,0.0833]\n",
            "1\n",
            "\n",
            "[0.5363,0.3554,0.6563,0.6531]\n",
            "98\n",
            "\n",
            "[0.9722,0.75  ,0.9407,0.8333]\n",
            "2\n",
            "\n",
            "Num clusters: 3\n",
            "\n",
            "Silhouette score: 0.5309\n",
            "\n",
            "\n",
            "[0.199 ,0.6003,0.0792,0.0595]\n",
            "49\n",
            "\n",
            "[0.0556,0.125 ,0.0508,0.0833]\n",
            "1\n",
            "\n",
            "[0.545 ,0.3633,0.662 ,0.6567]\n",
            "100\n",
            "\n",
            "Num clusters: 2\n",
            "\n",
            "Silhouette score: 0.6295\n",
            "\n",
            "\n",
            "[0.1961,0.5908,0.0786,0.06  ]\n",
            "50\n",
            "\n",
            "[0.545 ,0.3633,0.662 ,0.6567]\n",
            "100\n",
            "\n"
          ]
        },
        {
          "output_type": "display_data",
          "data": {
            "text/plain": [
              "<Figure size 432x288 with 1 Axes>"
            ],
            "image/png": "[encoded data removed]"
          },
          "metadata": {
            "needs_background": "light"
          }
        }
      ],
      "source": [
        "# Iris Clustering using single-link\n",
        "iris_single = HACClustering(k=7, low_print_k=2, link_type='single')\n",
        "_ = iris_single.fit(X_iris)\n",
        "_ = plt.plot(iris_single.k_vals, iris_single.s_scores)\n",
        "plt.title(\"Single-Link HAC Silhouette Score vs. K\")\n",
        "plt.xlabel(\"K\")\n",
        "plt.ylabel(\"Silhouette Score\")\n",
        "plt.grid()"
      ]
    },
    {
      "cell_type": "code",
      "execution_count": null,
      "metadata": {
        "id": "qrxjOxay-Jep",
        "colab": {
          "base_uri": "https://localhost:8080/",
          "height": 1000
        },
        "outputId": "6189a2a5-c70a-4dd9-b407-f1250abbb6c7"
      },
      "outputs": [
        {
          "output_type": "stream",
          "name": "stdout",
          "text": [
            "Num clusters: 7\n",
            "\n",
            "Silhouette score: 0.3244\n",
            "\n",
            "\n",
            "[0.2424,0.6742,0.0827,0.0732]\n",
            "33\n",
            "\n",
            "[0.1062,0.4289,0.0708,0.0343]\n",
            "17\n",
            "\n",
            "[0.5604,0.4221,0.6094,0.5779]\n",
            "23\n",
            "\n",
            "[0.3515,0.2399,0.512 ,0.4741]\n",
            "29\n",
            "\n",
            "[0.498 ,0.2768,0.6985,0.7143]\n",
            "14\n",
            "\n",
            "[0.6365,0.4601,0.7657,0.8569]\n",
            "23\n",
            "\n",
            "[0.8914,0.4735,0.9045,0.8106]\n",
            "11\n",
            "\n",
            "Num clusters: 6\n",
            "\n",
            "Silhouette score: 0.3292\n",
            "\n",
            "\n",
            "[0.2424,0.6742,0.0827,0.0732]\n",
            "33\n",
            "\n",
            "[0.1062,0.4289,0.0708,0.0343]\n",
            "17\n",
            "\n",
            "[0.5368,0.3671,0.6432,0.6295]\n",
            "37\n",
            "\n",
            "[0.3515,0.2399,0.512 ,0.4741]\n",
            "29\n",
            "\n",
            "[0.6365,0.4601,0.7657,0.8569]\n",
            "23\n",
            "\n",
            "[0.8914,0.4735,0.9045,0.8106]\n",
            "11\n",
            "\n",
            "Num clusters: 5\n",
            "\n",
            "Silhouette score: 0.3368\n",
            "\n",
            "\n",
            "[0.2424,0.6742,0.0827,0.0732]\n",
            "33\n",
            "\n",
            "[0.1062,0.4289,0.0708,0.0343]\n",
            "17\n",
            "\n",
            "[0.5368,0.3671,0.6432,0.6295]\n",
            "37\n",
            "\n",
            "[0.3515,0.2399,0.512 ,0.4741]\n",
            "29\n",
            "\n",
            "[0.719 ,0.4645,0.8106,0.8419]\n",
            "34\n",
            "\n",
            "Num clusters: 4\n",
            "\n",
            "Silhouette score: 0.3932\n",
            "\n",
            "\n",
            "[0.2424,0.6742,0.0827,0.0732]\n",
            "33\n",
            "\n",
            "[0.1062,0.4289,0.0708,0.0343]\n",
            "17\n",
            "\n",
            "[0.4554,0.3112,0.5855,0.5612]\n",
            "66\n",
            "\n",
            "[0.719 ,0.4645,0.8106,0.8419]\n",
            "34\n",
            "\n",
            "Num clusters: 3\n",
            "\n",
            "Silhouette score: 0.5031\n",
            "\n",
            "\n",
            "[0.1961,0.5908,0.0786,0.06  ]\n",
            "50\n",
            "\n",
            "[0.4554,0.3112,0.5855,0.5612]\n",
            "66\n",
            "\n",
            "[0.719 ,0.4645,0.8106,0.8419]\n",
            "34\n",
            "\n",
            "Num clusters: 2\n",
            "\n",
            "Silhouette score: 0.3039\n",
            "\n",
            "\n",
            "[0.3436,0.4318,0.367 ,0.3452]\n",
            "116\n",
            "\n",
            "[0.719 ,0.4645,0.8106,0.8419]\n",
            "34\n",
            "\n"
          ]
        },
        {
          "output_type": "display_data",
          "data": {
            "text/plain": [
              "<Figure size 432x288 with 1 Axes>"
            ],
            "image/png": "[encoded data removed]"
          },
          "metadata": {
            "needs_background": "light"
          }
        }
      ],
      "source": [
        "# Iris Clustering using complete-link\n",
        "iris_complete = HACClustering(k=7, low_print_k=2, link_type='complete')\n",
        "_ = iris_complete.fit(X_iris)\n",
        "_ = plt.plot(iris_complete.k_vals, iris_complete.s_scores)\n",
        "plt.title(\"Complete-Link HAC Silhouette Score vs. K\")\n",
        "plt.xlabel(\"K\")\n",
        "plt.ylabel(\"Silhouette Score\")\n",
        "plt.grid()"
      ]
    },
    {
      "cell_type": "markdown",
      "metadata": {
        "id": "GjkatnQY-Jep"
      },
      "source": [
        "Discuss your results including the differences between single-link and complete-link\n",
        "\n",
        "Complete link performed far better at clustering the iris datset than single link, as the complete-linkage style created 3 clusters of similar size and we know there are 3 true categories in the dataset. The final silhouette score (k=2) for the single linkage was far higher at 0.6295 than 0.3039 for the final two clusters of complete linkage. Single linkage create long, linear clusters, while complete linkage created more spherical clusters. The highest respective silhouette score for single and complete linkages were achieved at 2 clusters, which is fewer than the known number of true categories. I would have expected the highest silhouette scores to be achieved at 3 clusters, but I was wrong."
      ]
    },
    {
      "cell_type": "markdown",
      "metadata": {
        "id": "DGfrL7p5-Jeq"
      },
      "source": [
        "### 2.2 (10%) Iris Clustering with K-means"
      ]
    },
    {
      "cell_type": "code",
      "execution_count": null,
      "metadata": {
        "id": "gigfanaW-Jeq",
        "colab": {
          "base_uri": "https://localhost:8080/",
          "height": 1000
        },
        "outputId": "e1862df2-dbd4-4566-c1de-ec367a03f4fd"
      },
      "outputs": [
        {
          "output_type": "stream",
          "name": "stdout",
          "text": [
            "Num clusters: 7\n",
            "\n",
            "Silhouette score: 0.3444\n",
            "\n",
            "\n",
            "[0.2326,0.6068,0.0816,0.0807]\n",
            "16\n",
            "\n",
            "[0.412 ,0.2769,0.559 ,0.5208]\n",
            "48\n",
            "\n",
            "[0.1349,0.4613,0.0751,0.0327]\n",
            "14\n",
            "\n",
            "[0.0278,0.3333,0.0466,0.0417]\n",
            "4\n",
            "\n",
            "[0.3032,0.8021,0.089 ,0.0729]\n",
            "12\n",
            "\n",
            "[0.6677,0.4431,0.7572,0.7821]\n",
            "52\n",
            "\n",
            "[0.1111,0.6042,0.0805,0.0521]\n",
            "4\n",
            "\n",
            "Num clusters: 6\n",
            "\n",
            "Silhouette score: 0.3501\n",
            "\n",
            "\n",
            "[0.2257,0.6146,0.0773,0.0807]\n",
            "16\n",
            "\n",
            "[0.412 ,0.2769,0.559 ,0.5208]\n",
            "48\n",
            "\n",
            "[0.1358,0.4861,0.08  ,0.037 ]\n",
            "18\n",
            "\n",
            "[0.0278,0.3333,0.0466,0.0417]\n",
            "4\n",
            "\n",
            "[0.3032,0.8021,0.089 ,0.0729]\n",
            "12\n",
            "\n",
            "[0.6677,0.4431,0.7572,0.7821]\n",
            "52\n",
            "\n",
            "Num clusters: 5\n",
            "\n",
            "Silhouette score: 0.3667\n",
            "\n",
            "\n",
            "[0.6716,0.4404,0.7604,0.7851]\n",
            "51\n",
            "\n",
            "[0.4133,0.2832,0.5597,0.523 ]\n",
            "49\n",
            "\n",
            "[0.2069,0.5958,0.0788,0.0708]\n",
            "20\n",
            "\n",
            "[0.1062,0.4289,0.0708,0.0343]\n",
            "17\n",
            "\n",
            "[0.297 ,0.7949,0.0887,0.0769]\n",
            "13\n",
            "\n",
            "Num clusters: 4\n",
            "\n",
            "Silhouette score: 0.4016\n",
            "\n",
            "\n",
            "[0.7073,0.4509,0.797 ,0.8248]\n",
            "39\n",
            "\n",
            "[0.4413,0.3074,0.5757,0.5492]\n",
            "61\n",
            "\n",
            "[0.2589,0.6949,0.0823,0.0774]\n",
            "28\n",
            "\n",
            "[0.1162,0.4583,0.074 ,0.0379]\n",
            "22\n",
            "\n",
            "Num clusters: 3\n",
            "\n",
            "Silhouette score: 0.5043\n",
            "\n",
            "\n",
            "[0.7073,0.4509,0.797 ,0.8248]\n",
            "39\n",
            "\n",
            "[0.4413,0.3074,0.5757,0.5492]\n",
            "61\n",
            "\n",
            "[0.1961,0.5908,0.0786,0.06  ]\n",
            "50\n",
            "\n",
            "Num clusters: 2\n",
            "\n",
            "Silhouette score: 0.6295\n",
            "\n",
            "\n",
            "[0.545 ,0.3633,0.662 ,0.6567]\n",
            "100\n",
            "\n",
            "[0.1961,0.5908,0.0786,0.06  ]\n",
            "50\n",
            "\n"
          ]
        },
        {
          "output_type": "display_data",
          "data": {
            "text/plain": [
              "<Figure size 432x288 with 1 Axes>"
            ],
            "image/png": "[encoded data removed]"
          },
          "metadata": {
            "needs_background": "light"
          }
        }
      ],
      "source": [
        "# Iris Clustering with K-means\n",
        "k_vals, s_scores = [], []\n",
        "for i in range(7,1,-1):\n",
        "  iris_km = KMEANSClustering(k=i,debug=True)\n",
        "  _ = iris_km.fit(X_iris)\n",
        "  k_vals.append(i)\n",
        "  s_scores.append(iris_km.silhouette_score)\n",
        "\n",
        "_ = plt.plot(k_vals, s_scores)\n",
        "plt.title(\"K-Means Silhouette Score vs. K\")\n",
        "plt.xlabel(\"K\")\n",
        "plt.ylabel(\"Silhouette Score\")\n",
        "plt.grid()"
      ]
    },
    {
      "cell_type": "markdown",
      "metadata": {
        "id": "IELq_zlu-Jeq"
      },
      "source": [
        "Discuss your results\n",
        "\n",
        "Strangely, the greatest silhouette score achieved while running K Means with k values from 7 to 2 occurred at k=2. I would have expected the highest silhouette score to be found at k=3, as there are three known, natural categories in this dataset. The greatest increase in silhouette score occured across the interval k=4 to k=2."
      ]
    },
    {
      "cell_type": "markdown",
      "metadata": {
        "id": "lVA-r3WV-Jeq"
      },
      "source": [
        "### 2.3 (5%) K-means Initial Centroids Experiment\n",
        "\n",
        "- Run K-means 5 times with *k*=4, each time with different initial random centroids and discuss any variations in the results.\n",
        "- If you ever end up with any empty clusters in K-means, re-run with different initial centroids."
      ]
    },
    {
      "cell_type": "code",
      "execution_count": null,
      "metadata": {
        "id": "jtXU14fU-Jer",
        "colab": {
          "base_uri": "https://localhost:8080/"
        },
        "outputId": "bd434e1a-83eb-4fc7-d9d4-be51eea7babe"
      },
      "outputs": [
        {
          "output_type": "stream",
          "name": "stdout",
          "text": [
            "Num clusters: 4\n",
            "\n",
            "Silhouette score: 0.5043\n",
            "\n",
            "\n",
            "[0.7073,0.4509,0.797 ,0.8248]\n",
            "39\n",
            "\n",
            "[0.1961,0.5908,0.0786,0.06  ]\n",
            "50\n",
            "\n",
            "[0.4413,0.3074,0.5757,0.5492]\n",
            "61\n",
            "\n",
            "[inf,inf,inf,inf]\n",
            "0\n",
            "\n"
          ]
        }
      ],
      "source": [
        "# K-means 5 times\n",
        "\n",
        "# 1\n",
        "km_centroids = KMEANSClustering(k=4)\n",
        "_ = km_centroids.fit(X_iris)"
      ]
    },
    {
      "cell_type": "code",
      "source": [
        "# 2\n",
        "km_centroids = KMEANSClustering(k=4)\n",
        "_ = km_centroids.fit(X_iris)"
      ],
      "metadata": {
        "colab": {
          "base_uri": "https://localhost:8080/"
        },
        "id": "_EXAb2TDc69i",
        "outputId": "79402e4e-fd55-4c54-848f-4d0da853dce0"
      },
      "execution_count": null,
      "outputs": [
        {
          "output_type": "stream",
          "name": "stdout",
          "text": [
            "Num clusters: 4\n",
            "\n",
            "Silhouette score: 0.4446\n",
            "\n",
            "\n",
            "[0.1961,0.5908,0.0786,0.06  ]\n",
            "50\n",
            "\n",
            "[0.7385,0.4727,0.8229,0.8635]\n",
            "29\n",
            "\n",
            "[0.5417,0.375 ,0.6566,0.6419]\n",
            "42\n",
            "\n",
            "[0.3563,0.2371,0.5091,0.4713]\n",
            "29\n",
            "\n"
          ]
        }
      ]
    },
    {
      "cell_type": "code",
      "source": [
        "# 3\n",
        "km_centroids = KMEANSClustering(k=4)\n",
        "_ = km_centroids.fit(X_iris)"
      ],
      "metadata": {
        "colab": {
          "base_uri": "https://localhost:8080/"
        },
        "id": "LLmBZ1CIc7HS",
        "outputId": "2b3cca9c-12ff-49fc-f0d2-f30e33c5cc2a"
      },
      "execution_count": null,
      "outputs": [
        {
          "output_type": "stream",
          "name": "stdout",
          "text": [
            "Num clusters: 4\n",
            "\n",
            "Silhouette score: 0.3890\n",
            "\n",
            "\n",
            "[0.1559,0.5162,0.0758,0.0544]\n",
            "36\n",
            "\n",
            "[0.6677,0.4431,0.7572,0.7821]\n",
            "52\n",
            "\n",
            "[0.412 ,0.2769,0.559 ,0.5208]\n",
            "48\n",
            "\n",
            "[0.2996,0.7827,0.086 ,0.0744]\n",
            "14\n",
            "\n"
          ]
        }
      ]
    },
    {
      "cell_type": "code",
      "source": [
        "# 4\n",
        "km_centroids = KMEANSClustering(k=4)\n",
        "_ = km_centroids.fit(X_iris)"
      ],
      "metadata": {
        "colab": {
          "base_uri": "https://localhost:8080/"
        },
        "id": "KWOnfIEIc7P-",
        "outputId": "2ec85744-1ba6-4345-8a5c-85ed6c1f2036"
      },
      "execution_count": null,
      "outputs": [
        {
          "output_type": "stream",
          "name": "stdout",
          "text": [
            "Num clusters: 4\n",
            "\n",
            "Silhouette score: 0.4446\n",
            "\n",
            "\n",
            "[0.3563,0.2371,0.5091,0.4713]\n",
            "29\n",
            "\n",
            "[0.1961,0.5908,0.0786,0.06  ]\n",
            "50\n",
            "\n",
            "[0.7385,0.4727,0.8229,0.8635]\n",
            "29\n",
            "\n",
            "[0.5417,0.375 ,0.6566,0.6419]\n",
            "42\n",
            "\n"
          ]
        }
      ]
    },
    {
      "cell_type": "code",
      "source": [
        "# 5\n",
        "km_centroids = KMEANSClustering(k=4)\n",
        "_ = km_centroids.fit(X_iris)"
      ],
      "metadata": {
        "colab": {
          "base_uri": "https://localhost:8080/"
        },
        "id": "htdEAksdc7W_",
        "outputId": "2e8f6023-6334-4300-fa6d-50bce88799b0"
      },
      "execution_count": null,
      "outputs": [
        {
          "output_type": "stream",
          "name": "stdout",
          "text": [
            "Num clusters: 4\n",
            "\n",
            "Silhouette score: 0.5043\n",
            "\n",
            "\n",
            "[0.1961,0.5908,0.0786,0.06  ]\n",
            "50\n",
            "\n",
            "[0.4413,0.3074,0.5757,0.5492]\n",
            "61\n",
            "\n",
            "[inf,inf,inf,inf]\n",
            "39\n",
            "\n",
            "[0.7073,0.4509,0.797 ,0.8248]\n",
            "0\n",
            "\n"
          ]
        }
      ]
    },
    {
      "cell_type": "markdown",
      "metadata": {
        "id": "J7LlyNEZ-Jer"
      },
      "source": [
        "Discuss any variations in the results\n",
        "\n",
        "All five trials resulted in silhouette scores very near to the mean (0.4357). Centroids ended up in different spots in all five cases, while the silhouette scores stayed surprisingly consistent. This suggests that the K Means algorithm has approached either a local or an absolute maximum for silhouette score on this dataset."
      ]
    },
    {
      "cell_type": "markdown",
      "metadata": {
        "id": "oBBmeNQ7jvcQ"
      },
      "source": [
        "## 3. Scikit-Learn Comparison\n",
        "\n",
        "### 3.1 (10%) Run the SK versions of HAC (just complete link) and K-means on Iris data set above\n",
        "\n",
        "- Report results for a couple values of *k*\n",
        "- Experiment using different hyper-parameters"
      ]
    },
    {
      "cell_type": "code",
      "execution_count": null,
      "metadata": {
        "id": "OFQv70W2VyqJ",
        "colab": {
          "base_uri": "https://localhost:8080/"
        },
        "outputId": "eb16c0df-e4db-4284-e14b-65fc6d0af4b3"
      },
      "outputs": [
        {
          "output_type": "stream",
          "name": "stdout",
          "text": [
            "Clustering Iris Dataset with SKLearn HAC Complete Link\n",
            "\n",
            "Silhouette (k=3): 0.5541\n",
            "\n",
            "Silhouette (k=5): 0.4732\n",
            "\n",
            "\n",
            "\n"
          ]
        },
        {
          "output_type": "stream",
          "name": "stderr",
          "text": [
            "/usr/local/lib/python3.7/dist-packages/sklearn/base.py:566: FutureWarning: Arrays of bytes/strings is being converted to decimal numbers if dtype='numeric'. This behavior is deprecated in 0.24 and will be removed in 1.1 (renaming of 0.26). Please convert your data to numeric values explicitly instead.\n",
            "  X = check_array(X, **check_params)\n",
            "/usr/local/lib/python3.7/dist-packages/sklearn/utils/validation.py:976: FutureWarning: Arrays of bytes/strings is being converted to decimal numbers if dtype='numeric'. This behavior is deprecated in 0.24 and will be removed in 1.1 (renaming of 0.26). Please convert your data to numeric values explicitly instead.\n",
            "  estimator=estimator,\n",
            "/usr/local/lib/python3.7/dist-packages/sklearn/base.py:566: FutureWarning: Arrays of bytes/strings is being converted to decimal numbers if dtype='numeric'. This behavior is deprecated in 0.24 and will be removed in 1.1 (renaming of 0.26). Please convert your data to numeric values explicitly instead.\n",
            "  X = check_array(X, **check_params)\n",
            "/usr/local/lib/python3.7/dist-packages/sklearn/utils/validation.py:976: FutureWarning: Arrays of bytes/strings is being converted to decimal numbers if dtype='numeric'. This behavior is deprecated in 0.24 and will be removed in 1.1 (renaming of 0.26). Please convert your data to numeric values explicitly instead.\n",
            "  estimator=estimator,\n"
          ]
        }
      ],
      "source": [
        "skl_HAC = AgglomerativeClustering(n_clusters = 3, affinity=\"manhattan\", linkage=\"complete\")\n",
        "_ = skl_HAC.fit(X_iris)\n",
        "print(\"Clustering Iris Dataset with SKLearn HAC Complete Link\\n\")\n",
        "a = silhouette_score(X=X_iris, labels=skl_HAC.labels_)\n",
        "print(\"Silhouette (k=3): {:.4f}\\n\".format(a))\n",
        "skl_HAC = AgglomerativeClustering(n_clusters = 5, affinity=\"manhattan\", linkage=\"complete\")\n",
        "_ = skl_HAC.fit(X_iris)\n",
        "a = silhouette_score(X=X_iris, labels=skl_HAC.labels_)\n",
        "print(\"Silhouette (k=5): {:.4f}\\n\\n\\n\".format(a))"
      ]
    },
    {
      "cell_type": "code",
      "source": [
        "skl_km = KMeans(n_clusters=3, init=\"k-means++\", algorithm=\"elkan\")\n",
        "_ = skl_km.fit(X_iris)\n",
        "print(\"Clustering Iris Dataset with SKLearn K Means\\n\")\n",
        "a = silhouette_score(X=X_iris, labels=skl_km.labels_)\n",
        "print(\"Silhouette (k=3): {:.4f}\\n\".format(a))\n",
        "skl_km = KMeans(n_clusters=5, init=\"k-means++\", algorithm=\"elkan\")\n",
        "_ = skl_km.fit(X_iris)\n",
        "a = silhouette_score(X=X_iris, labels=skl_km.labels_)\n",
        "print(\"Silhouette (k=5): {:.4f}\\n\\n\\n\".format(a))"
      ],
      "metadata": {
        "colab": {
          "base_uri": "https://localhost:8080/"
        },
        "id": "HxdJgXrJqQ1f",
        "outputId": "e82281cb-3306-47e7-fb60-3aed633ce0f6"
      },
      "execution_count": null,
      "outputs": [
        {
          "output_type": "stream",
          "name": "stdout",
          "text": [
            "Clustering Iris Dataset with SKLearn K Means\n",
            "\n",
            "Silhouette (k=3): 0.5526\n",
            "\n",
            "Silhouette (k=5): 0.4885\n",
            "\n",
            "\n",
            "\n"
          ]
        },
        {
          "output_type": "stream",
          "name": "stderr",
          "text": [
            "/usr/local/lib/python3.7/dist-packages/sklearn/utils/validation.py:976: FutureWarning: Arrays of bytes/strings is being converted to decimal numbers if dtype='numeric'. This behavior is deprecated in 0.24 and will be removed in 1.1 (renaming of 0.26). Please convert your data to numeric values explicitly instead.\n",
            "  estimator=estimator,\n",
            "/usr/local/lib/python3.7/dist-packages/sklearn/utils/validation.py:976: FutureWarning: Arrays of bytes/strings is being converted to decimal numbers if dtype='numeric'. This behavior is deprecated in 0.24 and will be removed in 1.1 (renaming of 0.26). Please convert your data to numeric values explicitly instead.\n",
            "  estimator=estimator,\n"
          ]
        }
      ]
    },
    {
      "cell_type": "markdown",
      "metadata": {
        "id": "BqSFAXwlk3Ms"
      },
      "source": [
        "*Discuss Results and Comparison with your versions of the algorithms. Discuss effects of different hyperparameters*\n",
        "\n",
        "The SKLearn HAC algorithm achieved silhouette scores very similar to my HAC algorithm. However, when I switched the distance metric for the SKLearn HAC algorithm from Euclidean distance to Manhattan distance, the silhouette score on the Iris dataset shot up .05 points for k=3, and 0.1 points for k=5. \n",
        "\n",
        "For the SKLearn K Means algorithm, the silhouette scores for k=3 and k=5 were nearly identical to the SKLearn HAC algorithm when using Manhattan distance. Switching the init parameter to'k-means++' made no difference on either silhouette score here. Switching the algorithm to 'elkan' left the silhouette score of k=3 the same, but dropped the silhouette score of k=5 by 0.01 point."
      ]
    },
    {
      "cell_type": "markdown",
      "metadata": {
        "id": "PWXyGtuk-Jer"
      },
      "source": [
        "### 3.2 (10%) Run the SK version of HAC (just complete link) and K-means on a dataset of your choice \n",
        "- Report results for a couple values of *k*\n",
        "- Experiment using different hyper-parameters"
      ]
    },
    {
      "cell_type": "code",
      "execution_count": null,
      "metadata": {
        "id": "Iu510dby-Jer"
      },
      "outputs": [],
      "source": [
        "from sklearn import datasets\n",
        "noisy_moons = datasets.make_moons(n_samples=500, noise=.05)[0]"
      ]
    },
    {
      "cell_type": "code",
      "source": [
        "skl_HAC = AgglomerativeClustering(n_clusters = 2, affinity=\"manhattan\", linkage=\"complete\")\n",
        "_ = skl_HAC.fit(noisy_moons)\n",
        "print(\"Clustering Noisy Moons Dataset with SKLearn HAC Complete Link\\n\")\n",
        "a = silhouette_score(X=noisy_moons, labels=skl_HAC.labels_)\n",
        "print(\"Silhouette (k=2): {:.4f}\\n\".format(a))\n",
        "skl_HAC = AgglomerativeClustering(n_clusters = 6, affinity=\"euclidean\", linkage=\"complete\")\n",
        "_ = skl_HAC.fit(noisy_moons)\n",
        "a = silhouette_score(X=noisy_moons, labels=skl_HAC.labels_)\n",
        "print(\"Silhouette (k=6): {:.4f}\\n\\n\\n\".format(a))"
      ],
      "metadata": {
        "colab": {
          "base_uri": "https://localhost:8080/"
        },
        "id": "6Od8wYgntMTk",
        "outputId": "b2df931d-f751-4ee0-f7f7-b09957d8906d"
      },
      "execution_count": null,
      "outputs": [
        {
          "output_type": "stream",
          "name": "stdout",
          "text": [
            "Clustering Noisy Moons Dataset with SKLearn HAC Complete Link\n",
            "\n",
            "Silhouette (k=2): 0.4712\n",
            "\n",
            "Silhouette (k=6): 0.4345\n",
            "\n",
            "\n",
            "\n"
          ]
        }
      ]
    },
    {
      "cell_type": "code",
      "source": [
        "skl_km = KMeans(n_clusters=2, algorithm=\"auto\")\n",
        "_ = skl_km.fit(noisy_moons)\n",
        "print(\"Clustering Noisy Moons Dataset with SKLearn K Means\\n\")\n",
        "a = silhouette_score(X=noisy_moons, labels=skl_km.labels_)\n",
        "print(\"Silhouette (k=2): {:.4f}\\n\".format(a))\n",
        "skl_km = KMeans(n_clusters=6, algorithm=\"auto\")\n",
        "_ = skl_km.fit(noisy_moons)\n",
        "a = silhouette_score(X=noisy_moons, labels=skl_km.labels_)\n",
        "print(\"Silhouette (k=6): {:.4f}\\n\\n\\n\".format(a))"
      ],
      "metadata": {
        "colab": {
          "base_uri": "https://localhost:8080/"
        },
        "id": "WHYh64oesmbW",
        "outputId": "3a8812ae-3df4-439c-b350-a33ecbec7c17"
      },
      "execution_count": null,
      "outputs": [
        {
          "output_type": "stream",
          "name": "stdout",
          "text": [
            "Clustering Noisy Moons Dataset with SKLearn K Means\n",
            "\n",
            "Silhouette (k=2): 0.4909\n",
            "\n",
            "Silhouette (k=6): 0.4977\n",
            "\n",
            "\n",
            "\n"
          ]
        }
      ]
    },
    {
      "cell_type": "markdown",
      "metadata": {
        "id": "T-oKHPPT-Jer"
      },
      "source": [
        "*Discussion*\n",
        "\n",
        "On the noisy moons dataset (n=500), SKLearn's K Means algorithm achieved slightly higher (Δ0.0107) a silhouette score than SKLearn's HAC complete link algorithm at k=2, and a much higher silhouette score at k=6 (Δ\\~0.12). Swapping the algorithm for K Means to \"auto\" made no difference in silhouette scores, while switching it to \"elkan\" decreased both silhouette scores. Changing the affinity property for HAC to \"manhattan\" decreased silhouette scores slightly (Δ0.029)."
      ]
    },
    {
      "cell_type": "markdown",
      "metadata": {
        "id": "cTlK-kijk8Mg"
      },
      "source": [
        "## 4. (Optional 5% extra credit) Write your own code for silhouette\n",
        "If you do this option implement your code for silhouette above in your main implementation and use it for your experiments. Make it clear that the silhouette results come from your code. You may/should compare with the SK version to debug/verify your results."
      ]
    },
    {
      "cell_type": "markdown",
      "metadata": {
        "id": "ZtWj9ej2-Jes"
      },
      "source": [
        "*Discussion*"
      ]
    }
  ],
  "metadata": {
    "colab": {
      "provenance": []
    },
    "kernelspec": {
      "display_name": "Python 3",
      "language": "python",
      "name": "python3"
    },
    "language_info": {
      "codemirror_mode": {
        "name": "ipython",
        "version": 3
      },
      "file_extension": ".py",
      "mimetype": "text/x-python",
      "name": "python",
      "nbconvert_exporter": "python",
      "pygments_lexer": "ipython3",
      "version": "3.6.9"
    }
  },
  "nbformat": 4,
  "nbformat_minor": 0
}